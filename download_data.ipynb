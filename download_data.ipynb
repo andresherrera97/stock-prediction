{
 "cells": [
  {
   "cell_type": "code",
   "execution_count": 1,
   "metadata": {},
   "outputs": [],
   "source": [
    "from alpha_vantage.timeseries import TimeSeries\n",
    "from pprint import pprint\n",
    "import json\n",
    "import argparse"
   ]
  },
  {
   "cell_type": "code",
   "execution_count": 3,
   "metadata": {},
   "outputs": [],
   "source": [
    "api_key = 'FDRJWXUZ8KMK22JE'\n",
    "ts = TimeSeries(key=api_key, output_format='pandas')"
   ]
  },
  {
   "cell_type": "code",
   "execution_count": 19,
   "metadata": {},
   "outputs": [
    {
     "name": "stdout",
     "output_type": "stream",
     "text": [
      "             1. open   2. high    3. low  4. close   5. volume\n",
      "date                                                          \n",
      "2021-11-09  337.1071  338.7200  334.5300    335.95  19890003.0\n",
      "2021-11-08  337.3000  337.6500  334.4400    336.99  20897001.0\n",
      "2021-11-05  338.5100  338.7900  334.4217    336.06  22570098.0\n",
      "2021-11-04  332.8900  336.5400  329.5100    336.44  23992202.0\n",
      "2021-11-03  333.9000  334.9000  330.6500    334.00  21500082.0\n",
      "2021-11-02  330.3100  333.4500  330.0000    333.13  25719044.0\n",
      "2021-11-01  331.3550  331.4900  326.3700    329.37  26840400.0\n",
      "2021-10-29  324.1300  332.0000  323.9000    331.62  34765982.0\n",
      "2021-10-28  324.3250  324.8700  321.3601    324.35  26297943.0\n",
      "2021-10-27  316.0000  326.0973  316.0000    323.17  52588690.0\n",
      "<class 'pandas.core.frame.DataFrame'>\n",
      "<class 'dict'>\n",
      "5543\n"
     ]
    }
   ],
   "source": [
    "data_daily, meta_data_daily = ts.get_daily(symbol='MSFT', outputsize='full')\n",
    "pprint(data_daily.head(10))\n",
    "print(type(data_daily))\n",
    "print(type(meta_data_daily))\n",
    "print(len(data_daily))\n",
    "\n",
    "data_daily.to_csv(f'microsoft_daily.csv')"
   ]
  },
  {
   "cell_type": "code",
   "execution_count": 17,
   "metadata": {},
   "outputs": [
    {
     "name": "stdout",
     "output_type": "stream",
     "text": [
      "dict_keys(['1. Information', '2. Symbol', '3. Last Refreshed', '4. Output Size', '5. Time Zone'])\n",
      "Daily Prices (open, high, low, close) and Volumes\n",
      "MSFT\n",
      "2021-11-09\n"
     ]
    }
   ],
   "source": [
    "print(meta_data_daily.keys())\n",
    "print(meta_data_daily['1. Information'])\n",
    "print(meta_data_daily['2. Symbol'])\n",
    "print(meta_data_daily['3. Last Refreshed'])"
   ]
  },
  {
   "cell_type": "code",
   "execution_count": 13,
   "metadata": {},
   "outputs": [],
   "source": [
    "def save_pickle_dict(path='reports/model_training', name='', dict_=None):\n",
    "    with open(os.path.join(path, name + '.pkl'), 'wb') as f:\n",
    "        pickle.dump(dict_, f, pickle.HIGHEST_PROTOCOL) \n",
    "\n",
    "def load_pickle_dict(path='reports/model_training', name=''):\n",
    "    with open(os.path.join(path, name + '.pkl'), 'rb') as f:\n",
    "        return pickle.load(f)\n"
   ]
  },
  {
   "cell_type": "code",
   "execution_count": null,
   "metadata": {},
   "outputs": [],
   "source": []
  },
  {
   "cell_type": "code",
   "execution_count": 10,
   "metadata": {},
   "outputs": [
    {
     "name": "stdout",
     "output_type": "stream",
     "text": [
      "(6270, 5)\n",
      "                     1. open  2. high  3. low  4. close  5. volume\n",
      "date                                                              \n",
      "2021-11-08 19:58:00   336.36   336.36  336.36    336.36      230.0\n",
      "2021-11-08 19:57:00   336.45   336.45  336.45    336.45      258.0\n",
      "2021-11-08 19:50:00   336.46   336.46  336.46    336.46      101.0\n",
      "2021-11-08 19:43:00   336.46   336.46  336.46    336.46      220.0\n",
      "2021-11-08 19:34:00   336.62   336.62  336.61    336.61     1060.0\n",
      "                     1. open  2. high  3. low  4. close  5. volume\n",
      "date                                                              \n",
      "2021-10-26 04:34:00   309.69   309.69  309.61    309.61      961.0\n",
      "2021-10-26 04:23:00   309.59   309.60  309.59    309.60      839.0\n",
      "2021-10-26 04:20:00   309.65   309.65  309.65    309.65      448.0\n",
      "2021-10-26 04:14:00   309.66   309.66  309.66    309.66      285.0\n",
      "2021-10-26 04:05:00   309.60   309.61  309.60    309.61      320.0\n"
     ]
    }
   ],
   "source": [
    "data, meta_data = ts.get_intraday(\n",
    "            symbol='MSFT', interval='1min', outputsize='full')\n",
    "print(data.shape)\n",
    "print(data.head())\n",
    "print(data.tail())"
   ]
  },
  {
   "cell_type": "code",
   "execution_count": null,
   "metadata": {},
   "outputs": [],
   "source": [
    "data.to_csv(f'./{symbol}_{time_window}.csv')"
   ]
  }
 ],
 "metadata": {
  "interpreter": {
   "hash": "11ffc019a02cc0e21e59860b66c88ea81995ce9237607e8ab2c087a287ee4867"
  },
  "kernelspec": {
   "display_name": "Python 3.8.5 64-bit ('base': conda)",
   "language": "python",
   "name": "python3"
  },
  "language_info": {
   "codemirror_mode": {
    "name": "ipython",
    "version": 3
   },
   "file_extension": ".py",
   "mimetype": "text/x-python",
   "name": "python",
   "nbconvert_exporter": "python",
   "pygments_lexer": "ipython3",
   "version": "3.8.5"
  },
  "orig_nbformat": 4
 },
 "nbformat": 4,
 "nbformat_minor": 2
}
